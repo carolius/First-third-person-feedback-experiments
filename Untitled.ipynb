{
 "cells": [
  {
   "cell_type": "code",
   "execution_count": 6,
   "id": "121e8190",
   "metadata": {},
   "outputs": [],
   "source": [
    "from openai import OpenAI\n",
    "import os\n",
    "import math\n",
    "import matplotlib.pyplot as plt\n",
    "import json\n",
    "import random\n",
    "import numpy as np\n",
    "import scipy.stats as stats\n",
    "from tqdm import tqdm"
   ]
  },
  {
   "cell_type": "code",
   "execution_count": 7,
   "id": "aa691252",
   "metadata": {},
   "outputs": [],
   "source": [
    "model=\"gpt-3.5-turbo\"\n",
    "task=\"personalisation\"\n",
    "# Load the JSON file\n",
    "model_postfix = \"\" if model == \"\" else \"_\" + model\n",
    "fname_in = f'data/datasets/{task}{model_postfix}_eval.jsonl'\n",
    "with open(fname_in, 'r', encoding=\"utf-8\") as f_in:\n",
    "    data = []\n",
    "    for line in f_in:\n",
    "        data.append(json.loads(line))"
   ]
  },
  {
   "cell_type": "code",
   "execution_count": 15,
   "id": "390c5a9c",
   "metadata": {},
   "outputs": [
    {
     "name": "stdout",
     "output_type": "stream",
     "text": [
      "prompt\n",
      "Hi, I'm Mark, a high school student passionate about history. \n",
      "\n",
      "\n",
      "question\n",
      "What is quantum entanglement? \n",
      "\n",
      "\n",
      "appropriate_answer\n",
      "Quantum entanglement is a special connection that can happen between particles. When two particles become entangled, changes to one particle will instantly affect the other no matter how far apart they are. It's like they're linked by an invisible thread, even across huge distances. Scientists are still exploring what this means and how it works. \n",
      "\n",
      "\n",
      "inappropriate_answer\n",
      "Quantum entanglement is a quantum mechanical phenomenon where the quantum states of two or more particles become interconnected, such that the state of one particle cannot be fully described independently of the state of the others, even when the particles are separated by large distances. This relationship is a fundamental aspect of quantum mechanics and is described mathematically by nonseparable wave functions. It defies classical intuitions about locality and causality, which Einstein famously referred to as 'spooky action at a distance'. The implications of entanglement are profound, underpinning numerous experiments and applications such as quantum cryptography and quantum teleportation. \n",
      "\n",
      "\n",
      "positive_label\n",
      "appropriate_answer \n",
      "\n",
      "\n",
      "negative_label\n",
      "inappropriate_answer \n",
      "\n",
      "\n",
      "letter_option_positive\n",
      "B \n",
      "\n",
      "\n",
      "positive_label_prob\n",
      "{'first_firstshoes': 0.1951981270655993, 'third_thirdshoes': 0.016001188151991294, 'third_firstshoes': 0.3206852392508714, 'first_thirdshoes': 0.004579195277025367} \n",
      "\n",
      "\n",
      "negative_label_prob\n",
      "{'first_firstshoes': 0.14331673041297988, 'third_thirdshoes': 0.6436932153885553, 'third_firstshoes': 0.05248609508441147, 'first_thirdshoes': 0.8577278508166567} \n",
      "\n",
      "\n"
     ]
    }
   ],
   "source": [
    "display(data[0])"
   ]
  },
  {
   "cell_type": "code",
   "execution_count": 14,
   "id": "80a1f59c",
   "metadata": {},
   "outputs": [],
   "source": [
    "def display(d):\n",
    "    for key in d:\n",
    "        print(key)\n",
    "        print(d[key], \"\\n\\n\")"
   ]
  },
  {
   "cell_type": "code",
   "execution_count": null,
   "id": "063943d0",
   "metadata": {},
   "outputs": [],
   "source": []
  }
 ],
 "metadata": {
  "kernelspec": {
   "display_name": "micah",
   "language": "python",
   "name": "micah"
  },
  "language_info": {
   "codemirror_mode": {
    "name": "ipython",
    "version": 3
   },
   "file_extension": ".py",
   "mimetype": "text/x-python",
   "name": "python",
   "nbconvert_exporter": "python",
   "pygments_lexer": "ipython3",
   "version": "3.11.9"
  }
 },
 "nbformat": 4,
 "nbformat_minor": 5
}
